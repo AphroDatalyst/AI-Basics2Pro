{
 "cells": [
  {
   "cell_type": "code",
   "execution_count": null,
   "metadata": {},
   "outputs": [],
   "source": [
    "# create new branch and switch to that branch\n",
    "git checkout -b [name_of_your_new_branch]\n",
    "\n",
    "# Once, you created new branch. It is time to push to Github.\n",
    "git push origin [name_of_your_new_branch]"
   ]
  }
 ],
 "metadata": {
  "language_info": {
   "name": "python"
  }
 },
 "nbformat": 4,
 "nbformat_minor": 2
}
