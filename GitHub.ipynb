{
 "cells": [
  {
   "cell_type": "code",
   "execution_count": null,
   "metadata": {},
   "outputs": [],
   "source": [
    "# create new branch and switch to that branch\n",
    "!git checkout -b [name_of_your_new_branch]\n",
    "# Once, you created new branch. It is time to push to Github\n",
    "!git push origin [name_of_your_new_branch]\n",
    "\n",
    "# NOTE merge a Git branch into master\n",
    "!git checkout master\n",
    "!git pull origin master\n",
    "!git merge test\n",
    "!git push origin master\n",
    "# Switched to a new branch \\\"newfeature\\\"\n",
    "!git checkout -b newfeature \n",
    "# Switched to branch \\\"master\\\"\n",
    "!git checkout master\n",
    "!git merge newfeature\n",
    "!git rebase newfeature #A cleaver\""
   ]
  }
 ],
 "metadata": {
  "language_info": {
   "name": "python"
  }
 },
 "nbformat": 4,
 "nbformat_minor": 2
}
