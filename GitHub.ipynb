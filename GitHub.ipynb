{
 "cells": [
  {
   "cell_type": "markdown",
   "metadata": {},
   "source": [
    "https://gitready.com/intermediate/2009/01/31/intro-to-rebase.html"
   ]
  },
  {
   "cell_type": "code",
   "execution_count": null,
   "metadata": {},
   "outputs": [],
   "source": [
    "# NOTE merge a Git branch into master\n",
    "!git checkout master\n",
    "!git pull origin master\n",
    "!git merge test\n",
    "!git push origin master\n",
    "\n",
    "# Switched to a new branch \"newfeature\"\n",
    "!git checkout -b newfeature \n",
    "# Switched to branch \"master\"\n",
    "!git checkout master\n",
    "!git merge newfeature\n",
    "!git rebase newfeature #A cleaver"
   ]
  },
  {
   "cell_type": "markdown",
   "metadata": {},
   "source": []
  }
 ],
 "metadata": {
  "language_info": {
   "name": "python"
  }
 },
 "nbformat": 4,
 "nbformat_minor": 2
}
