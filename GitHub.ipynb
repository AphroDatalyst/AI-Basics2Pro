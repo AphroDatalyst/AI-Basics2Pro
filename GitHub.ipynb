{
 "cells": [
  {
<<<<<<< HEAD
=======
   "cell_type": "markdown",
   "metadata": {},
   "source": [
    "https://gitready.com/intermediate/2009/01/31/intro-to-rebase.html"
   ]
  },
  {
>>>>>>> 1609739ac9eae256b09a9dc36fbefdc6fe07e858
   "cell_type": "code",
   "execution_count": null,
   "metadata": {},
   "outputs": [],
   "source": [
<<<<<<< HEAD
    "# create new branch and switch to that branch\n",
    "git checkout -b [name_of_your_new_branch]\n",
    "\n",
    "# Once, you created new branch. It is time to push to Github.\n",
    "git push origin [name_of_your_new_branch]"
   ]
=======
    "# NOTE merge a Git branch into master\n",
    "!git checkout master\n",
    "!git pull origin master\n",
    "!git merge test\n",
    "!git push origin master\n",
    "\n",
    "# Switched to a new branch \"newfeature\"\n",
    "!git checkout -b newfeature \n",
    "# Switched to branch \"master\"\n",
    "!git checkout master\n",
    "!git merge newfeature\n",
    "!git rebase newfeature #A cleaver"
   ]
  },
  {
   "cell_type": "markdown",
   "metadata": {},
   "source": []
>>>>>>> 1609739ac9eae256b09a9dc36fbefdc6fe07e858
  }
 ],
 "metadata": {
  "language_info": {
   "name": "python"
  }
 },
 "nbformat": 4,
 "nbformat_minor": 2
}
