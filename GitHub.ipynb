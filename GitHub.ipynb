{
 "cells": [
  {
   "cell_type": "code",
   "execution_count": null,
   "metadata": {},
   "outputs": [],
   "source": [
    "# create new branch and switch to that branch\n",
    "!git checkout -b [name_of_your_new_branch]\n",
    "# Once, you created new branch. It is time to push to Github\n",
    "!git push origin [name_of_your_new_branch]\n",
    "\n",
    "# NOTE merge a Git branch into master\n",
    "!git checkout master\n",
    "!git pull origin master\n",
    "!git merge test\n",
    "!git push origin master\n",
    "# Switched to a new branch \\\"newfeature\\\"\n",
    "!git checkout -b newfeature \n",
    "# Switched to branch \\\"master\\\"\n",
    "!git checkout master\n",
    "!git merge newfeature\n",
    "!git rebase newfeature #A cleaver\n",
    "\n",
    "# When working with and closing a pull request you have three merge options Create a merge commit, Squash and merge and Rebase and merge\n",
    "# The GitHub \"make a merge\" button corresponds to:\n",
    "!git checkout <branch> #target branch\n",
    "!git merge --no-ff -m <message> <commit-hash>\n",
    "\n",
    "# The GitHub \"squash and merge\" button corresponds to:\n",
    "!git checkout <branch>\n",
    "!git merge --squash <commit-hash>\n",
    "!git commit # needed cuz --squash flag turns on the command-line --no-commit \n",
    "\n",
    "# The GitHub \"rebase and merge\" button corresponds—somewhat roughly—to:\n",
    "# maybe: create a branch name (consider using git checkout -b next)\n",
    "!git checkout <commit-hash-or-branch-name>\n",
    "!git rebase <branch>\n",
    "!git checkout <branch>\n",
    "!git merge --ff-only <hash-or-name>\n",
    "# maybe: delete a branch name\n",
    "\n",
    "# NOTE: Git push local branch to remote"
   ]
  }
 ],
 "metadata": {
  "language_info": {
   "name": "python"
  }
 },
 "nbformat": 4,
 "nbformat_minor": 2
}
