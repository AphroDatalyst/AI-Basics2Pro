{
 "cells": [
  {
   "cell_type": "code",
   "execution_count": null,
   "metadata": {},
   "outputs": [],
   "source": [
    "# The dtype attribute in NumPy is used to specify the data type of the elements in a NumPy array. \n",
    "\n",
    "import numpy as np\n",
    "\n",
    "# Creating an array with a specific data type\n",
    "arr_int = np.array([1, 2, 3], dtype=np.int32)\n",
    "arr_float = np.array([1, 2, 3], dtype=np.float64)\n",
    "\n",
    "\n"
   ]
  }
 ],
 "metadata": {
  "language_info": {
   "name": "python"
  }
 },
 "nbformat": 4,
 "nbformat_minor": 2
}
