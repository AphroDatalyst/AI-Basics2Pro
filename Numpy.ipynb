{
 "cells": [
  {
   "cell_type": "code",
   "execution_count": 1,
   "metadata": {},
   "outputs": [],
   "source": [
    "import numpy as np"
   ]
  },
  {
   "cell_type": "code",
   "execution_count": 3,
   "metadata": {},
   "outputs": [
    {
     "name": "stdout",
     "output_type": "stream",
     "text": [
      "/Users/flexicatapp/Documents/github/Python\n"
     ]
    }
   ],
   "source": [
    "import os\n",
    "print(os.getcwd())"
   ]
  },
  {
   "cell_type": "code",
   "execution_count": null,
   "metadata": {},
   "outputs": [],
   "source": [
    "# The dtype attribute in NumPy is used to specify the data type of the elements in a NumPy array. \n",
    "\n",
    "# Creating an array with a specific data type\n",
    "arr_int = np.array([1, 2, 3], dtype=np.int32)\n",
    "arr_float = np.array([1, 2, 3], dtype=np.float64)\n",
    "\n",
    "# Convert an integer array to a floating point array\n",
    "arr_float = arr_int.astype(np.float64)\n",
    "# Inspect the data type of the array\n",
    "print(arr_int.dtype)  # Output might be dtype('int32')\n",
    "\n",
    "# Specify dtype when loading data\n",
    "data = np.loadtxt('data.csv', delimiter=',', dtype=np.float32)\n",
    "\n",
    "# Specify dtype when saving data\n",
    "np.savetxt('data.csv', data, delimiter=',', fmt='%0.4f')  # Saves data with float format\n",
    "# Creating a structured array\n",
    "struct_arr = np.array([(1, 'First', 0.5), (2, 'Second', 1.3)],\n",
    "                      dtype=[('id', 'i4'), ('position', 'a6'), ('value', 'f4')])\n",
    "\n"
   ]
  },
  {
   "cell_type": "code",
   "execution_count": null,
   "metadata": {},
   "outputs": [],
   "source": []
  }
 ],
 "metadata": {
  "kernelspec": {
   "display_name": ".venv",
   "language": "python",
   "name": "python3"
  },
  "language_info": {
   "codemirror_mode": {
    "name": "ipython",
    "version": 3
   },
   "file_extension": ".py",
   "mimetype": "text/x-python",
   "name": "python",
   "nbconvert_exporter": "python",
   "pygments_lexer": "ipython3",
   "version": "3.8.10"
  }
 },
 "nbformat": 4,
 "nbformat_minor": 2
}
