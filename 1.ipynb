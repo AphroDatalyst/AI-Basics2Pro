{
 "cells": [
  {
   "cell_type": "code",
   "execution_count": null,
   "metadata": {},
   "outputs": [],
   "source": [
    "import os, shutil\n"
   ]
  },
  {
   "cell_type": "code",
   "execution_count": null,
   "metadata": {},
   "outputs": [],
   "source": [
    "# NOTE: Create Directory If it Does Not Exist\n",
    "\n",
    "# Method 1: Using os.path.exists() and os.makedirs() methods\n",
    "# checking if the directory demo_folder  \n",
    "# exist or not. \n",
    "if not os.path.exists(\"path/to/demo_folder\"): \n",
    "    os.makedirs(\"path/to/demo_folder\")\n",
    "    \n",
    "# Method 2: Using isdir() and makedirs()\n",
    "if not os.path.isdir(\"path/to/demo_folder2\"): \n",
    "    os.makedirs(\"path/to/demo_folder2\") \n",
    "    \n",
    "# NOTE: Copy Files From Subfolders to the Main folder\n",
    "# [img](https://media.geeksforgeeks.org/wp-content/uploads/20210609111758/cf3-660x87.PNG)\n",
    "# Method 1: Using shutil.copyfile()\n",
    "source = 'D:/projects/base/subfolder/file.txt'\n",
    "destination = 'D:/projects/base/file.txt'\n",
    "shutil.copyfile(source,destination)\n",
    "\n",
    "# Method 2: Using shutil.copy()\n",
    "shutil.copy(source,destination)\n",
    "\n",
    "# Method 3: Using shutil.copy2()\n",
    "shutil.copy2(source,destination) # copies the metadata like time stamps\n",
    "\n",
    "# Method 4: Using shutil.copyfileobj()\n",
    "source = 'D:/projects/base/subfolder/file.txt'\n",
    "fsrc = open(source, 'r') \n",
    "dest = 'D:/projects/base/file.txt'\n",
    "# get the file object\n",
    "fdst = open(dest, 'w')\n",
    "shutil.copyfileobj(fsrc, fdst) # like shutil.copyfileobj(fsrc, fdst, 1024), buffer size by passing\n",
    "# Close file objects\n",
    "fdst.close()\n",
    "fsrc.close()\n",
    "\n",
    "# NOTE: CRead file from sibling directory\n",
    "https://www.geeksforgeeks.org/python-read-file-from-sibling-directory/?ref=ml_lbp\n",
    "\n"
   ]
  },
  {
   "cell_type": "code",
   "execution_count": null,
   "metadata": {},
   "outputs": [],
   "source": []
  },
  {
   "cell_type": "markdown",
   "metadata": {},
   "source": []
  },
  {
   "cell_type": "markdown",
   "metadata": {},
   "source": []
  }
 ],
 "metadata": {
  "language_info": {
   "name": "python"
  }
 },
 "nbformat": 4,
 "nbformat_minor": 2
}
