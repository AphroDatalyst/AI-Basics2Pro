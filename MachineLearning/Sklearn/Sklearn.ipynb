{
 "cells": [
  {
   "cell_type": "markdown",
   "metadata": {},
   "source": [
    "# What is Scikit-learn?\n",
    "*Scikit-learn* has emerged as a powerful and user-friendly Python library. Its simplicity and versatility make it a better choice for both beginners and seasoned data scientists to build and implement machine learning models. In this article, we will explore about Sklearn.\n",
    "*Scikit-learn* is an open-source Python library that implements a range of machine learning, pre-processing, cross-validation, and visualization algorithms using a unified interface. It is an open-source machine-learning library that provides a plethora of tools for various machine-learning tasks such as Classification, Regression, Clustering, and many more.\n",
    "\n",
    "# Installation of Scikit- learn\n",
    "```\n",
    "!pip install -U scikit-learn\n",
    "```\n",
    "<!-- The latest version of Scikit-learn is 1.5 and it requires Python 3.8 or newer. -->\n",
    "Scikit-learn requires:  \n",
    "* NumPy\n",
    "* SciPy as its dependencies.\n",
    "\n",
    "### Step 1: Load a Dataset\n",
    "Loading exemplar dataset: scikit-learn comes loaded with a few example datasets like the iris and digits datasets for classification and the boston house prices dataset for regression. "
   ]
  },
  {
   "cell_type": "code",
   "execution_count": 18,
   "metadata": {},
   "outputs": [
    {
     "name": "stdout",
     "output_type": "stream",
     "text": [
      "Feature names: ['sepal length (cm)', 'sepal width (cm)', 'petal length (cm)', 'petal width (cm)']\n",
      "Target names: ['setosa' 'versicolor' 'virginica']\n",
      "\n",
      "Type of X is: <class 'numpy.ndarray'>\n",
      "\n",
      "First 5 rows of X:\n",
      " [[5.1 3.5 1.4 0.2]\n",
      " [4.9 3.  1.4 0.2]\n",
      " [4.7 3.2 1.3 0.2]\n",
      " [4.6 3.1 1.5 0.2]\n",
      " [5.  3.6 1.4 0.2]]\n",
      "<class 'sklearn.utils._bunch.Bunch'>\n",
      "[0 0 1]\n",
      "<class 'numpy.ndarray'>\n",
      "['setosa', 'versicolor', 'virginica']\n"
     ]
    }
   ],
   "source": [
    "# load the iris dataset as an example \n",
    "from sklearn.datasets import load_iris \n",
    "iris = load_iris() \n",
    "\n",
    "# store the feature matrix (X) and response vector (y)  ----  load_iris func return Bunch() data=data, target=target, frame=frame,...)\n",
    "X = iris.data \n",
    "y = iris.target \n",
    "\n",
    "# store the feature and target names \n",
    "feature_names = iris.feature_names \n",
    "target_names = iris.target_names \n",
    "\n",
    "# printing features and target names of our dataset \n",
    "print(\"Feature names:\", feature_names) \n",
    "print(\"Target names:\", target_names) \n",
    "\n",
    "# X and y are numpy arrays \n",
    "print(\"\\nType of X is:\", type(X)) \n",
    "\n",
    "# printing first 5 input rows \n",
    "print(\"\\nFirst 5 rows of X:\\n\", X[:5])\n",
    "\n",
    "# print(type(iris))\n",
    "print(iris.target[[10, 25, 50]])\n",
    "print(type(iris.target[[10, 25, 50]])) # array([0, 0, 1])\n",
    "print(list(iris.target_names))"
   ]
  }
 ],
 "metadata": {
  "kernelspec": {
   "display_name": ".venv",
   "language": "python",
   "name": "python3"
  },
  "language_info": {
   "codemirror_mode": {
    "name": "ipython",
    "version": 3
   },
   "file_extension": ".py",
   "mimetype": "text/x-python",
   "name": "python",
   "nbconvert_exporter": "python",
   "pygments_lexer": "ipython3",
   "version": "3.10.4"
  }
 },
 "nbformat": 4,
 "nbformat_minor": 2
}
