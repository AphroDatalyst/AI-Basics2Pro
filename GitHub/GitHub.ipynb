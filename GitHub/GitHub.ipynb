{
 "cells": [
  {
   "cell_type": "markdown",
   "metadata": {},
   "source": [
    "https://github.com/git/git/blob/master/Documentation/RelNotes/2.23.0.txt"
   ]
  },
  {
   "cell_type": "code",
   "execution_count": null,
   "metadata": {},
   "outputs": [],
   "source": [
    "# create new branch and switch to that branch\n",
    "!git checkout -b [name_of_your_new_branch]\n",
    "# Once, you created new branch. It is time to push to Github\n",
    "!git push origin [name_of_your_new_branch]\n",
    "\n",
    "# NOTE merge a Git branch into master\n",
    "!git checkout master\n",
    "!git pull origin master\n",
    "!git merge test\n",
    "!git push origin master\n",
    "# Switched to a new branch \\\"newfeature\\\"\n",
    "!git checkout -b newfeature \n",
    "# Switched to branch \\\"master\\\"\n",
    "!git checkout master\n",
    "!git merge newfeature\n",
    "!git rebase newfeature #A cleaver\n",
    "\n",
    "# When working with and closing a pull request you have three merge options Create a merge commit, Squash and merge and Rebase and merge\n",
    "# The GitHub \"make a merge\" button corresponds to:\n",
    "!git checkout <branch> #target branch\n",
    "!git merge --no-ff -m <message> <commit-hash>\n",
    "\n",
    "# The GitHub \"squash and merge\" button corresponds to:\n",
    "!git checkout <branch>\n",
    "!git merge --squash <commit-hash>\n",
    "!git commit # needed cuz --squash flag turns on the command-line --no-commit \n",
    "\n",
    "# The GitHub \"rebase and merge\" button corresponds—somewhat roughly—to:\n",
    "# maybe: create a branch name (consider using git checkout -b next)\n",
    "!git checkout <commit-hash-or-branch-name>\n",
    "!git rebase <branch>\n",
    "!git checkout <branch>\n",
    "!git merge --ff-only <hash-or-name>\n",
    "# maybe: delete a branch name\n",
    "\n",
    "# NOTE: push local branch to remote\n",
    "!git push origin -u <branchname>\n",
    "\n",
    "# Create the local branch\n",
    "!github@branch/c/remote/push (main)\n",
    "!git switch -c new-branch\n",
    "# Verify the branch was created\n",
    "!git branch -a\n",
    "!git switch #command to create and move to a new branch\n",
    "# Use the git push –set-upstream command\n",
    "!git push --set-upstream origin new-branch\n",
    "\n",
    "\n",
    "# NOTE: Ongoing Git push and pull commands\n",
    "!github@branch/c/remote/push  (new-branch)\n",
    "!git clone https://github.com/learn-git-fast/git-branch-examples.git\n",
    "%cd git*\n",
    "!git checkout -b new-branch\n",
    "\n",
    "!github@branch/c/remote/push (new-branch)\n",
    "!git branch -a\n",
    "!touch devolution.jpg\n",
    "!git add .\n",
    "!git commit -m \"About to Git push a local branch upstream to a remote GitHub repo.\"\n",
    "!git push --set-upstream origin new-branch\n",
    "\n",
    "!github@branch/c/remote/push (new-branch)\n",
    "!touch eden.html\n",
    "!git add .\n",
    "!git commit -m \"Eden added\"\n",
    "!git push origin"
   ]
  },
  {
   "cell_type": "markdown",
   "metadata": {},
   "source": [
    "https://phoenixnap.com/kb/git-merge-branch-into-master\n",
    "for merge "
   ]
  },
  {
   "cell_type": "code",
   "execution_count": null,
   "metadata": {},
   "outputs": [],
   "source": [
    "First, update all origin/<branch> refs to latest:\n",
    "\n",
    "git fetch --all\n",
    "Backup your current branch (e.g. master):\n",
    "\n",
    "git branch backup-master\n",
    "Jump to the latest commit on origin/master and checkout those files:\n",
    "\n",
    "git reset --hard origin/master\n",
    "\n",
    "https://stackoverflow.com/questions/1125968/how-do-i-force-git-pull-to-overwrite-local-files"
   ]
  },
  {
   "cell_type": "code",
   "execution_count": null,
   "metadata": {},
   "outputs": [],
   "source": [
    "https://stackoverflow.com/questions/18115411/how-to-merge-specific-files-from-git-branches"
   ]
  },
  {
   "cell_type": "code",
   "execution_count": null,
   "metadata": {},
   "outputs": [],
   "source": []
  }
 ],
 "metadata": {
  "kernelspec": {
   "display_name": ".venv",
   "language": "python",
   "name": "python3"
  },
  "language_info": {
   "codemirror_mode": {
    "name": "ipython",
    "version": 3
   },
   "file_extension": ".py",
   "mimetype": "text/x-python",
   "name": "python",
   "nbconvert_exporter": "python",
   "pygments_lexer": "ipython3",
   "version": "3.8.10"
  }
 },
 "nbformat": 4,
 "nbformat_minor": 2
}
