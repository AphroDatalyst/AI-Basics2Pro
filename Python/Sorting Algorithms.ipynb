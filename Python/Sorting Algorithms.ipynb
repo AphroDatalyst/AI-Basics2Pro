{
 "cells": [
  {
   "cell_type": "markdown",
   "metadata": {},
   "source": [
    "#### Types of Sorting Techniques\n",
    "* Comparison-based: We compare the elements in a comparison-based sorting algorithm\n",
    "  * bubble dort, insertion sort, selection sort, quick sort, merge sort, heap sort\n",
    "* Non-comparison-based: We do not compare the elements in a non-comparison-based sorting algorithm\n",
    "  * radix sort, counting sort"
   ]
  },
  {
   "cell_type": "markdown",
   "metadata": {},
   "source": [
    "## 1. Selection sort\n",
    " we find the minimum element in every iteration and place it in the array beginning from the first index. Thus, a selection sort also gets divided into a sorted and unsorted subarray.\n",
    "\n",
    " ![image](https://blog.faradars.org/wp-content/uploads/2019/01/1-OA7a3OGWmGMRJQmwkGIwAw.gif)\n"
   ]
  },
  {
   "cell_type": "code",
   "execution_count": 7,
   "metadata": {},
   "outputs": [],
   "source": [
    "def selection_sort(arr):        \n",
    "    for i in range(len(arr)):\n",
    "        minimum = i\n",
    "        \n",
    "        for j in range(i + 1, len(arr)):\n",
    "            # Select the smallest value\n",
    "            if arr[j] < arr[minimum]:\n",
    "                minimum = j\n",
    "\n",
    "        #  swapping the elements, Place it at the front of the sorted end of the array\n",
    "        arr[minimum], arr[i] = arr[i], arr[minimum]\n",
    "            \n",
    "    return arr"
   ]
  },
  {
   "cell_type": "code",
   "execution_count": 10,
   "metadata": {},
   "outputs": [
    {
     "data": {
      "text/plain": [
       "[-2, 11, 12, 22, 25, 64]"
      ]
     },
     "execution_count": 10,
     "metadata": {},
     "output_type": "execute_result"
    }
   ],
   "source": [
    "selection_sort([64, 25, 12, 22, 11, -2])"
   ]
  },
  {
   "cell_type": "markdown",
   "metadata": {},
   "source": [
    "## 2. Bubble sort\n",
    "works by repeatedly swapping the adjacent elements if they are in the wrong order\n",
    "* not suitable for large data sets\n",
    "* time complexity is quite high\n",
    "\n",
    " ![image](https://blog.faradars.org/wp-content/uploads/2019/01/1-LllBj5cbV91URiuzAB-xzw.gif)\n",
    "\n"
   ]
  },
  {
   "cell_type": "code",
   "execution_count": 17,
   "metadata": {},
   "outputs": [],
   "source": [
    "def bubble_sort(arr):\n",
    "\n",
    "    # Outer loop to iterate through the list n times\n",
    "    for n in range(len(arr) - 1, 0, -1):\n",
    "\n",
    "        # Inner loop to compare adjacent elements\n",
    "        for i in range(n):\n",
    "            if arr[i] > arr[i + 1]:\n",
    "\n",
    "                # Swap elements if they are in the wrong order\n",
    "                swapped = True\n",
    "                arr[i], arr[i + 1] = arr[i + 1], arr[i]\n",
    "    return(arr)\n"
   ]
  },
  {
   "cell_type": "code",
   "execution_count": 18,
   "metadata": {},
   "outputs": [
    {
     "data": {
      "text/plain": [
       "[-2, 11, 12, 22, 25, 64]"
      ]
     },
     "execution_count": 18,
     "metadata": {},
     "output_type": "execute_result"
    }
   ],
   "source": [
    "bubble_sort([64, 25, 12, 22, 11, -2])"
   ]
  },
  {
   "cell_type": "markdown",
   "metadata": {},
   "source": [
    "## 3. Insertion Sort\n",
    "\n",
    " ![image](https://blog.faradars.org/wp-content/uploads/2019/01/1-onU9OmVftR5WeoLWh14iZw.gif)\n",
    "\n"
   ]
  },
  {
   "cell_type": "code",
   "execution_count": 32,
   "metadata": {},
   "outputs": [],
   "source": [
    "def insertion_Sort(arr):\n",
    "\tn = len(arr) \n",
    "\n",
    "\tif n <= 1:\n",
    "\t\treturn # If the array has 0 or 1 element, it is already sorted, so return\n",
    "\n",
    "\tfor i in range(1, n): # Iterate over the array starting from the second element\n",
    "\t\tkey = arr[i] # Store the current element as the key to be inserted in the right position\n",
    "\t\tj = i-1\n",
    "\t\twhile j >= 0 and key < arr[j]: # Move elements greater than key one position ahead\n",
    "\t\t\tarr[j+1] = arr[j] # Shift elements to the right\n",
    "\t\t\tj -= 1\n",
    "\t\tarr[j+1] = key # Insert the key in the correct position\n",
    "\n",
    "\treturn(arr)"
   ]
  },
  {
   "cell_type": "code",
   "execution_count": 33,
   "metadata": {},
   "outputs": [
    {
     "data": {
      "text/plain": [
       "[-2, 11, 12, 22, 25, 64]"
      ]
     },
     "execution_count": 33,
     "metadata": {},
     "output_type": "execute_result"
    }
   ],
   "source": [
    "insertion_Sort([64, 25, 12, 22, 11, -2])"
   ]
  },
  {
   "cell_type": "markdown",
   "metadata": {},
   "source": [
    "## 4. Merge Sort\n",
    "\n",
    " ![image](https://blog.faradars.org/wp-content/uploads/2019/01/1-fE7yGW2WPaltJWo6OnZ8LQ.gif)"
   ]
  },
  {
   "cell_type": "code",
   "execution_count": null,
   "metadata": {},
   "outputs": [],
   "source": [
    "def merge_sort(arr):\n",
    "    # The last array split\n",
    "    if len(arr) <= 1:\n",
    "        return arr\n",
    "    mid = len(arr) // 2\n",
    "    # Perform merge_sort recursively on both halves\n",
    "    left, right = merge_sort(arr[:mid]), merge_sort(arr[mid:])\n",
    "\n",
    "    # Merge each side together\n",
    "    return merge(left, right, arr.copy())\n",
    "\n",
    "\n",
    "def merge(left, right, merged):\n",
    "\n",
    "    left_cursor, right_cursor = 0, 0\n",
    "    while left_cursor < len(left) and right_cursor < len(right):\n",
    "\n",
    "        # Sort each one and place into the result\n",
    "        if left[left_cursor] <= right[right_cursor]:\n",
    "            merged[left_cursor+right_cursor]=left[left_cursor]\n",
    "            left_cursor += 1\n",
    "        else:\n",
    "            merged[left_cursor + right_cursor] = right[right_cursor]\n",
    "            right_cursor += 1\n",
    "            \n",
    "    for left_cursor in range(left_cursor, len(left)):\n",
    "        merged[left_cursor + right_cursor] = left[left_cursor]\n",
    "        \n",
    "    for right_cursor in range(right_cursor, len(right)):\n",
    "        merged[left_cursor + right_cursor] = right[right_cursor]\n",
    "\n",
    "    return merged"
   ]
  }
 ],
 "metadata": {
  "kernelspec": {
   "display_name": ".venv",
   "language": "python",
   "name": "python3"
  },
  "language_info": {
   "codemirror_mode": {
    "name": "ipython",
    "version": 3
   },
   "file_extension": ".py",
   "mimetype": "text/x-python",
   "name": "python",
   "nbconvert_exporter": "python",
   "pygments_lexer": "ipython3",
   "version": "3.10.4"
  }
 },
 "nbformat": 4,
 "nbformat_minor": 2
}
