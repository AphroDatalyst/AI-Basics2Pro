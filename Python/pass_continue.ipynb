{
 "cells": [
  {
   "cell_type": "markdown",
   "metadata": {},
   "source": [
    "# PASS VS. CONTINUE IN PYTHON EXPLAINED\n",
    "* Break:A break statement in Python alters the flow of a loop by terminating it once a specified condition is met.\n",
    "* Continue: The continue statement in Python is used to skip the remaining code inside a loop for the current iteration only.\n",
    "* Pass: The pass statement in Python is used when a statement or a condition is required to be present in the program, but we don’t want any command or code to execute. It’s typically used as a placeholder for future code."
   ]
  },
  {
   "cell_type": "code",
   "execution_count": 1,
   "metadata": {},
   "outputs": [
    {
     "name": "stdout",
     "output_type": "stream",
     "text": [
      "Iteration: 0\n",
      "Iteration: 1\n",
      "Iteration: 2\n",
      "Iteration: 3\n",
      "Iteration: 4\n"
     ]
    }
   ],
   "source": [
    "# The break statement in Python terminates the loop containing it.\n",
    "for num in range(0,10):\n",
    "    if num == 5:\n",
    "        break\n",
    "    print(f'Iteration: {num}')"
   ]
  },
  {
   "cell_type": "code",
   "execution_count": 3,
   "metadata": {},
   "outputs": [
    {
     "name": "stdout",
     "output_type": "stream",
     "text": [
      "Outer For Loop Iteration: 0\n",
      "--Inner For Loop Iteration: 0\n",
      "--Inner For Loop Iteration: 1\n",
      "Outer For Loop Iteration: 1\n",
      "--Inner For Loop Iteration: 0\n",
      "--Inner For Loop Iteration: 1\n",
      "Outer For Loop Iteration: 2\n",
      "--Inner For Loop Iteration: 0\n",
      "--Inner For Loop Iteration: 1\n"
     ]
    }
   ],
   "source": [
    "for k in range(0,3):\n",
    "    print(f'Outer For Loop Iteration: {k}')\n",
    "    for num in range(0,3):\n",
    "        if num == 2:\n",
    "            break\n",
    "        print(f'--Inner For Loop Iteration: {num}')\n",
    "        # The break statement will terminate the for loop containing it when the condition becomes True."
   ]
  },
  {
   "cell_type": "code",
   "execution_count": 4,
   "metadata": {},
   "outputs": [
    {
     "name": "stdout",
     "output_type": "stream",
     "text": [
      "Iteration: 0\n",
      "Iteration: 1\n",
      "Iteration: 2\n",
      "Iteration: 3\n",
      "Iteration: 4\n",
      "Iteration: 6\n",
      "Iteration: 7\n",
      "Iteration: 8\n",
      "Iteration: 9\n"
     ]
    }
   ],
   "source": [
    "for num in range(0,10):\n",
    "    if num == 5:\n",
    "        continue\n",
    "    print(f'Iteration: {num}')"
   ]
  },
  {
   "cell_type": "code",
   "execution_count": 5,
   "metadata": {},
   "outputs": [
    {
     "name": "stdout",
     "output_type": "stream",
     "text": [
      "Iteration: 0\n",
      "Iteration: 1\n",
      "Iteration: 2\n",
      "Iteration: 3\n",
      "Iteration: 4\n",
      "Iteration: 5\n",
      "Iteration: 6\n",
      "Iteration: 7\n",
      "Iteration: 8\n",
      "Iteration: 9\n"
     ]
    }
   ],
   "source": [
    "for num in range(0,10):\n",
    "    if num == 5:\n",
    "        pass\n",
    "    print(f'Iteration: {num}')"
   ]
  },
  {
   "cell_type": "markdown",
   "metadata": {},
   "source": [
    "* There is a significant difference between pass and continue, and they are not interchangeable. \n",
    "\n",
    "* continue forces the loop to start at the next iteration, whereas pass means, “there is no code to execute here,” and it will continue through the remainder of the loop body."
   ]
  },
  {
   "cell_type": "code",
   "execution_count": 6,
   "metadata": {},
   "outputs": [
    {
     "name": "stdout",
     "output_type": "stream",
     "text": [
      "Iteration: 0\n",
      "This statement is after 'pass'\n",
      "Iteration: 1\n",
      "This statement is after 'pass'\n",
      "Iteration: 2\n",
      "This statement is after 'pass'\n",
      "Iteration: 3\n",
      "This statement is after 'pass'\n",
      "Iteration: 4\n",
      "This statement is after 'pass'\n"
     ]
    }
   ],
   "source": [
    "for num in range(0,5):\n",
    "    pass\n",
    "    print(f'Iteration: {num}')\n",
    "    print(\"This statement is after 'pass'\")\n",
    "    continue\n",
    "    print(\"This statement is after 'continue'\")"
   ]
  },
  {
   "cell_type": "markdown",
   "metadata": {},
   "source": [
    "* In the above output, in each iteration of the for loop, the first two print statements are always executed even though they are after the pass statement. This means pass does nothing, and the flow of the loop goes un-interrupted.\n",
    "\n",
    "* However, the print statement after the continue statement isn’t executed, as the keyword continue forced the for loop to start the next iteration.\n",
    "\n",
    "* Summing up, a single example would be more helpful for understanding how pass continue and break work in Python."
   ]
  },
  {
   "cell_type": "code",
   "execution_count": 7,
   "metadata": {},
   "outputs": [
    {
     "name": "stdout",
     "output_type": "stream",
     "text": [
      "\n",
      "Interation: 1\n",
      "\n",
      "This is line before 'pass'\n",
      "\n",
      "This is line after 'pass'\n",
      "\n",
      "This is line before 'continue'\n",
      "\n",
      "Interation: 2\n",
      "\n",
      "This is line before 'pass'\n",
      "\n",
      "This is line after 'pass'\n",
      "\n",
      "This is line after condition check for 'continue'\n",
      "\n",
      "This is line before 'break'\n"
     ]
    }
   ],
   "source": [
    "number_of_iterations = int(input(\"How many iterations you want ? \\n \"))\n",
    "\n",
    "for iteration_count in range(1,1000):\n",
    "    print(f\"\\nInteration: {iteration_count}\")\n",
    "    print(\"\\nThis is line before 'pass'\")\n",
    "    pass\n",
    "    print(\"\\nThis is line after 'pass'\")\n",
    "    \n",
    "    if iteration_count < number_of_iterations:\n",
    "        print(\"\\nThis is line before 'continue'\")\n",
    "        continue\n",
    "        print(\"\\nThis is line after 'continue'\")\n",
    "    print(\"\\nThis is line after condition check for 'continue'\")\n",
    "    \n",
    "    if iteration_count < number_of_iterations+1:\n",
    "        print(\"\\nThis is line before 'break'\")\n",
    "        break\n",
    "        print(\"\\nThis is line after 'break'\")\n",
    "    print(\"\\nThis is line after condition check for 'break'\")"
   ]
  },
  {
   "cell_type": "markdown",
   "metadata": {},
   "source": [
    "* As you can see in the above output, everything before and after pass is always executed, indicating the keyword pass does nothing.\n",
    "\n",
    "* Only the line before continue keyword is executed, indicating that continue always forces the for loop to start the next iteration and doesn’t execute anything after the keyword continue in the current iteration.\n",
    "\n",
    "* Finally, the line before break gets executed and the flow of the for loop gets terminated on the third iteration. This explains how the break statement is used to stop the process. "
   ]
  },
  {
   "cell_type": "markdown",
   "metadata": {},
   "source": []
  }
 ],
 "metadata": {
  "kernelspec": {
   "display_name": "base",
   "language": "python",
   "name": "python3"
  },
  "language_info": {
   "codemirror_mode": {
    "name": "ipython",
    "version": 3
   },
   "file_extension": ".py",
   "mimetype": "text/x-python",
   "name": "python",
   "nbconvert_exporter": "python",
   "pygments_lexer": "ipython3",
   "version": "3.9.7"
  }
 },
 "nbformat": 4,
 "nbformat_minor": 2
}
