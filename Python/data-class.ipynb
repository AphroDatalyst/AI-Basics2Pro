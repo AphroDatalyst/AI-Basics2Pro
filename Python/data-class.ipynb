{
 "cells": [
  {
   "cell_type": "code",
   "execution_count": 3,
   "metadata": {},
   "outputs": [],
   "source": [
    "class Coordinate:\n",
    "    def __init__(self, lat, lon): # latitude and longitude attributes\n",
    "        self.lat = lat\n",
    "        self.lon = lon"
   ]
  },
  {
   "cell_type": "code",
   "execution_count": 20,
   "metadata": {},
   "outputs": [
    {
     "name": "stdout",
     "output_type": "stream",
     "text": [
      "<__main__.Coordinate object at 0x10bbc2800>\n",
      "<__main__.Coordinate object at 0x10b86fbe0>\n",
      "True\n"
     ]
    }
   ],
   "source": [
    "# from coordinates import Coordinate\n",
    "moscow = Coordinate(55.76, 37.62)\n",
    "# __repr__ inherited from object is not very helpful.\n",
    "print(moscow)\n",
    "\n",
    "location = Coordinate(55.76, 37.62)\n",
    "print(location)\n",
    "# Meaningless ==; the __eq__ method inherited from object compares object IDs.\n",
    "location == moscow\n",
    "\n",
    "# Comparing two coordinates requires explicit comparison of each attribute.\n",
    "print((location.lat, location.lon) == (moscow.lat, moscow.lon))"
   ]
  },
  {
   "cell_type": "code",
   "execution_count": 19,
   "metadata": {},
   "outputs": [
    {
     "name": "stdout",
     "output_type": "stream",
     "text": [
      "<class 'tuple'>\n"
     ]
    }
   ],
   "source": [
    "a = 1,2\n",
    "print(type(a))"
   ]
  },
  {
   "cell_type": "code",
   "execution_count": 29,
   "metadata": {},
   "outputs": [
    {
     "name": "stdout",
     "output_type": "stream",
     "text": [
      "<class '__main__.Coordinate'>\n",
      "Coordinate(lat, lon)\n",
      "True\n",
      "Coordinate(lat=55.756, lon=37.617)\n",
      "True\n"
     ]
    }
   ],
   "source": [
    "from collections import namedtuple\n",
    "# namedtuple—a factory function that builds a subclass of tuple with the name and fields you specif\n",
    "\n",
    "Coordinate = namedtuple('Coordinate', 'lat lon')\n",
    "print(Coordinate)\n",
    "print(Coordinate.__doc__) # docstring for the new class\n",
    "\n",
    "print(issubclass(Coordinate, tuple))\n",
    "\n",
    "# Useful __repr__.\n",
    "moscow = Coordinate(55.756, 37.617)\n",
    "print(moscow)\n",
    "\n",
    "# Meaningful __eq__.\n",
    "print(moscow == Coordinate(lat=55.756, lon=37.617))"
   ]
  },
  {
   "cell_type": "code",
   "execution_count": 31,
   "metadata": {},
   "outputs": [
    {
     "name": "stdout",
     "output_type": "stream",
     "text": [
      "True\n",
      "{'lat': <class 'float'>, 'lon': <class 'float'>}\n"
     ]
    }
   ],
   "source": [
    "# NamedTuple provides the same functionality, adding a type annotation to each field\n",
    "import typing\n",
    "\n",
    "# Coordinate = typing.NamedTuple('Coordinate',[('lat', float), ('lon', float)])\n",
    "Coordinate = typing.NamedTuple('Coordinate',lat=float,lon=float) # more readable\n",
    "\n",
    "print(issubclass(Coordinate, tuple))\n",
    "print(typing.get_type_hints(Coordinate))"
   ]
  },
  {
   "cell_type": "code",
   "execution_count": 1,
   "metadata": {},
   "outputs": [],
   "source": [
    "from dataclasses import dataclass\n",
    "\n",
    "@dataclass\n",
    "class Point:\n",
    "    x: float\n",
    "    y: float\n",
    "    z: float = 0.0\n",
    "    \n",
    "#The above code will generate methods like __init__, __repr__, and __eq__ for the class Point"
   ]
  },
  {
   "cell_type": "code",
   "execution_count": null,
   "metadata": {},
   "outputs": [],
   "source": []
  },
  {
   "cell_type": "code",
   "execution_count": null,
   "metadata": {},
   "outputs": [],
   "source": []
  },
  {
   "cell_type": "code",
   "execution_count": null,
   "metadata": {},
   "outputs": [],
   "source": []
  }
 ],
 "metadata": {
  "kernelspec": {
   "display_name": "Python 3",
   "language": "python",
   "name": "python3"
  },
  "language_info": {
   "codemirror_mode": {
    "name": "ipython",
    "version": 3
   },
   "file_extension": ".py",
   "mimetype": "text/x-python",
   "name": "python",
   "nbconvert_exporter": "python",
   "pygments_lexer": "ipython3",
   "version": "3.10.11"
  }
 },
 "nbformat": 4,
 "nbformat_minor": 2
}
