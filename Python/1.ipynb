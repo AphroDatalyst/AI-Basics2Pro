{
 "cells": [
  {
   "cell_type": "markdown",
   "metadata": {},
   "source": [
    "[link](https://sparkbyexamples.com/python/python-difference-between-__str__-and-__repr__/)\n",
    "\n",
    "What is the difference between `__str__` and `__repr__` in Python? The `__str__` and `__repr__` methods are two commonly used “dunder” (double underscore) methods that can be used to define how an object is represented as a string."
   ]
  },
  {
   "cell_type": "code",
   "execution_count": null,
   "metadata": {},
   "outputs": [],
   "source": []
  }
 ],
 "metadata": {
  "language_info": {
   "name": "python"
  }
 },
 "nbformat": 4,
 "nbformat_minor": 2
}
