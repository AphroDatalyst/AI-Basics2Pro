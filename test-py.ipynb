{
 "cells": [
  {
   "cell_type": "code",
   "execution_count": 3,
   "metadata": {},
   "outputs": [],
   "source": [
    "import collections"
   ]
  },
  {
   "cell_type": "code",
   "execution_count": 18,
   "metadata": {},
   "outputs": [
    {
     "name": "stdout",
     "output_type": "stream",
     "text": [
      "Point(x, y)\n",
      "Point(x=11, y=22)\n",
      "33\n",
      "11\n",
      "Point(x=11, y=22)\n",
      "Point(x=100, y=22)\n"
     ]
    }
   ],
   "source": [
    "Card = collections.namedtuple('Point', ['x', 'y'])\n",
    "print(Card.__doc__) # docstring for the new class\n",
    "\n",
    "p = Card(11, y=22) # instantiate with positional args\n",
    "print(p)\n",
    "\n",
    "w = p[0] + p[1] # indexable like a plain tuple\n",
    "print(w)\n",
    "\n",
    "d = p._asdict() # convert to a dictionary\n",
    "print(d['x'])\n",
    "\n",
    "print(Card(**d)) # convert from a dictionary\n",
    "\n",
    "print(p._replace(x=100)) # _replace() is like str.replace() but targets named fields\n"
   ]
  },
  {
   "cell_type": "code",
   "execution_count": 35,
   "metadata": {},
   "outputs": [
    {
     "name": "stdout",
     "output_type": "stream",
     "text": [
      "['2', '3', '4', '5', '6', '7', '8', '9', '10', 'J', 'Q', 'K', 'A']\n",
      "['spades', 'diamonds', 'clubs', 'hearts']\n",
      "Card(rank='7', suit='diamonds')\n",
      "52\n"
     ]
    }
   ],
   "source": [
    "Card = collections.namedtuple('Card', ['rank', 'suit'])\n",
    "\n",
    "class FrenchDeck:\n",
    "    ranks = [str(n) for n in range(2, 11)] + list('JQKA')\n",
    "    # ranks = [str(n) for n in range(2, 7)] + list('zoh') +list(\"1,1,1\")+[8,9,0]\n",
    "    print(ranks)\n",
    "    \n",
    "    suits = 'spades diamonds clubs hearts'.split() # Return a list of the substrings in the string, using sep as the separator string.\n",
    "    print(suits)\n",
    "    \n",
    "    def __init__(self):\n",
    "        self._cards = [Card(rank, suit) for suit in self.suits for rank in self.ranks]\n",
    "        \n",
    "    def __len__(self):\n",
    "        return len(self._cards)\n",
    "    \n",
    "    def __getitem__(self, position):\n",
    "        return self._cards[position]\n",
    "    \n",
    "beer_card = Card('7', 'diamonds')\n",
    "print(beer_card)\n",
    "\n",
    "deck = FrenchDeck()\n",
    "print(len(deck))"
   ]
  },
  {
   "cell_type": "code",
   "execution_count": null,
   "metadata": {},
   "outputs": [],
   "source": []
  }
 ],
 "metadata": {
  "kernelspec": {
   "display_name": ".venv",
   "language": "python",
   "name": "python3"
  },
  "language_info": {
   "codemirror_mode": {
    "name": "ipython",
    "version": 3
   },
   "file_extension": ".py",
   "mimetype": "text/x-python",
   "name": "python",
   "nbconvert_exporter": "python",
   "pygments_lexer": "ipython3",
   "version": "3.10.11"
  },
  "orig_nbformat": 4
 },
 "nbformat": 4,
 "nbformat_minor": 2
}
