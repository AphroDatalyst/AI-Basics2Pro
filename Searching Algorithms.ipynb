{
 "cells": [
  {
   "cell_type": "markdown",
   "metadata": {},
   "source": [
    "**Linear search algorithm**\n",
    "* also known as `sequential search`, iterates through each array element, comparing it with the target element until it finds a match.\n",
    "* The target element might be numbers, strings, objects, or any other data type that can be stored in an array.\n",
    "* The computational complexity for linear search is `O(n)`, where n is the number of elements in the array.\n",
    "\n",
    "***Applications of linear search***\n",
    "* Simple search tasks: Linear search is often used for a broad spectrum of basic search tasks where the dataset is small or where the additional complexity of other algorithms isn’t warranted. For example, searching a small list of names or numbers.\n",
    "* Linear data structures: Linear search is fundamental to many linear data structures like arrays, lists, and stacks. It’s typically used for scanning these structures to locate specific elements or perform operations.\n",
    "* Unordered arrays: Since linear search checks each element sequentially, it can locate items regardless of their positions in the array.\n",
    "\n",
    "***Pros***\n",
    "* Simple and easy to implement.\n",
    "* Works on unsorted arrays.\n",
    "* Suitable for smaller datasets.\n",
    "\n",
    "***Cons***\n",
    "* It is not suitable for large data sets due to the long execution time.\n",
    "* It has the worst-case time complexity O(n)."
   ]
  },
  {
   "cell_type": "code",
   "execution_count": null,
   "metadata": {},
   "outputs": [],
   "source": []
  },
  {
   "cell_type": "markdown",
   "metadata": {},
   "source": [
    " **Binary Search**\n",
    "* it requires your array to be `sorted`\n",
    "* it works by getting the middle index and comparing it with your target. If the target is greater than the middle, it will ignore the left part and search the right part. It will repeat this process until finding the targe\n",
    "* the execution time is `O(log(n))`, where n is the number of elements in the array\n",
    "* can be implemented recursively and iterable\n",
    "\n",
    "***Applications of binary search***\n",
    "* Searching in databases: This is an effective algorithm for database search to quickly locate records based on indexed fields, such as IDs or keys.\n",
    "* Finding elements in sorted arrays: searching for a word in a dictionary or finding an item in a sorted list.\n",
    "* Algorithmic foundation: Binary search helps in training neural networks and optimizing model hyperparameters.\n",
    "* Optimizing algorithms: Binary search is used in algorithms, including divide and conquer strategies, to efficiently solve problems like finding square roots or locating peak elements in arrays.\n",
    "* Searching in trees: Binary search trees (BSTs) use this algorithm to efficiently search, insert, and delete elements while maintaining the sorted order of the tree.\n",
    "\n",
    "****Pros****\n",
    "* A very efficient algorithm for large sorted data collections.\n",
    "* This algorithm is much faster on sorted arrays than linear search.\n",
    "* In comparison to many other algorithms, binary search is fairly simple.\n",
    "\n",
    "***Cons***\n",
    "* It needs a sorted array before searching, which may introduce additional overhead.\n",
    "* It requires random access to elements in the array, which can be a disadvantage in some data structures."
   ]
  },
  {
   "cell_type": "code",
   "execution_count": 1,
   "metadata": {},
   "outputs": [],
   "source": [
    "import numpy"
   ]
  },
  {
   "cell_type": "markdown",
   "metadata": {},
   "source": [
    "**Interpolation search**"
   ]
  },
  {
   "cell_type": "code",
   "execution_count": null,
   "metadata": {},
   "outputs": [],
   "source": [
    "\n"
   ]
  }
 ],
 "metadata": {
  "kernelspec": {
   "display_name": ".venv",
   "language": "python",
   "name": "python3"
  },
  "language_info": {
   "codemirror_mode": {
    "name": "ipython",
    "version": 3
   },
   "file_extension": ".py",
   "mimetype": "text/x-python",
   "name": "python",
   "nbconvert_exporter": "python",
   "pygments_lexer": "ipython3",
   "version": "3.10.4"
  }
 },
 "nbformat": 4,
 "nbformat_minor": 2
}
