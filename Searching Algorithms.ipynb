{
 "cells": [
  {
   "cell_type": "markdown",
   "metadata": {},
   "source": [
    " **1. Binary Search**\n",
    "* it requires your array to be sorted\n",
    "* it works by getting the middle index and comparing it with your target. If the target is greater than the middle, it will ignore the left part and search the right part. It will repeat this process until finding the targe\n",
    "* the execution time is `O(log(n))`, where n is the number of elements in the array\n",
    "* can be implemented recursively and iterable\n",
    "\n",
    "***Applications of binary search***\n",
    "* Searching in databases: This is an effective algorithm for database search to quickly locate records based on indexed fields, such as IDs or keys.\n",
    "* Finding elements in sorted arrays: searching for a word in a dictionary or finding an item in a sorted list.\n",
    "* Algorithmic foundation: Binary search helps in training neural networks and optimizing model hyperparameters.\n",
    "* Optimizing algorithms: Binary search is used in algorithms, including divide and conquer strategies, to efficiently solve problems like finding square roots or locating peak elements in arrays.\n",
    "* Searching in trees: Binary search trees (BSTs) use this algorithm to efficiently search, insert, and delete elements while maintaining the sorted order of the tree.\n",
    "\n",
    "****Pros****\n",
    "* A very efficient algorithm for large sorted data collections.\n",
    "* This algorithm is much faster on sorted arrays than linear search.\n",
    "* In comparison to many other algorithms, binary search is fairly simple.\n",
    "\n",
    "***Cons***\n",
    "* It needs a sorted array before searching, which may introduce additional overhead.\n",
    "* It requires random access to elements in the array, which can be a disadvantage in some data structures."
   ]
  },
  {
   "cell_type": "code",
   "execution_count": 1,
   "metadata": {},
   "outputs": [],
   "source": [
    "import numpy"
   ]
  },
  {
   "cell_type": "code",
   "execution_count": null,
   "metadata": {},
   "outputs": [],
   "source": []
  }
 ],
 "metadata": {
  "kernelspec": {
   "display_name": ".venv",
   "language": "python",
   "name": "python3"
  },
  "language_info": {
   "codemirror_mode": {
    "name": "ipython",
    "version": 3
   },
   "file_extension": ".py",
   "mimetype": "text/x-python",
   "name": "python",
   "nbconvert_exporter": "python",
   "pygments_lexer": "ipython3",
   "version": "3.10.4"
  }
 },
 "nbformat": 4,
 "nbformat_minor": 2
}
